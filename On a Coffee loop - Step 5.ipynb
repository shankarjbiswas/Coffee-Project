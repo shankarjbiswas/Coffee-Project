{
 "cells": [
  {
   "cell_type": "markdown",
   "metadata": {},
   "source": [
    "# Creating and Printing Lists"
   ]
  },
  {
   "cell_type": "code",
   "execution_count": 1,
   "metadata": {},
   "outputs": [
    {
     "name": "stdout",
     "output_type": "stream",
     "text": [
      "['corgi', 'labrador', 'poodle', 'jack russle']\n"
     ]
    }
   ],
   "source": [
    "dog_breeds = ['corgi','labrador','poodle','jack russle'] # List uses square brackets\n",
    "print(dog_breeds)"
   ]
  },
  {
   "cell_type": "code",
   "execution_count": 2,
   "metadata": {
    "scrolled": true
   },
   "outputs": [
    {
     "name": "stdout",
     "output_type": "stream",
     "text": [
      "['1', '2', '3', '4', '5']\n"
     ]
    }
   ],
   "source": [
    "numbers = ['1','2','3','4','5'] # another example of list\n",
    "print(numbers) # each element has a fixed position in a list"
   ]
  },
  {
   "cell_type": "code",
   "execution_count": 3,
   "metadata": {},
   "outputs": [
    {
     "name": "stdout",
     "output_type": "stream",
     "text": [
      "['a', 'v', 'a', 'i', 'l', 'a', 'b', 'l', 'e', '!']\n"
     ]
    }
   ],
   "source": [
    "list_out_of_strings = list('available!') # list function is used to create a list out of an iterable object\n",
    "print(list_out_of_strings)"
   ]
  },
  {
   "cell_type": "code",
   "execution_count": 4,
   "metadata": {},
   "outputs": [
    {
     "ename": "TypeError",
     "evalue": "'int' object is not iterable",
     "output_type": "error",
     "traceback": [
      "\u001b[1;31m---------------------------------------------------------------------------\u001b[0m",
      "\u001b[1;31mTypeError\u001b[0m                                 Traceback (most recent call last)",
      "\u001b[1;32m<ipython-input-4-240db665d9ca>\u001b[0m in \u001b[0;36m<module>\u001b[1;34m()\u001b[0m\n\u001b[1;32m----> 1\u001b[1;33m \u001b[0mlist_out_of_numbers\u001b[0m \u001b[1;33m=\u001b[0m \u001b[0mlist\u001b[0m\u001b[1;33m(\u001b[0m\u001b[1;36m435\u001b[0m\u001b[1;33m)\u001b[0m\u001b[1;33m\u001b[0m\u001b[0m\n\u001b[0m\u001b[0;32m      2\u001b[0m \u001b[0mprint\u001b[0m\u001b[1;33m(\u001b[0m\u001b[0mlist_out_of_numbers\u001b[0m\u001b[1;33m)\u001b[0m\u001b[1;33m\u001b[0m\u001b[0m\n",
      "\u001b[1;31mTypeError\u001b[0m: 'int' object is not iterable"
     ]
    }
   ],
   "source": [
    "list_out_of_numbers = list(435) # only strings are iterable objects but not Intergers\n",
    "print(list_out_of_numbers)"
   ]
  },
  {
   "cell_type": "code",
   "execution_count": 5,
   "metadata": {},
   "outputs": [
    {
     "name": "stdout",
     "output_type": "stream",
     "text": [
      "['a', 'v', 'a', 'i', 'l', 'a', 'b', 'l', 'e', '!']\n",
      "['available!']\n"
     ]
    }
   ],
   "source": [
    "multi_element_list = list('available!') # Note the difference\n",
    "print(multi_element_list )\n",
    "single_element_list = ['available!']\n",
    "print(single_element_list)\n"
   ]
  },
  {
   "cell_type": "code",
   "execution_count": 6,
   "metadata": {},
   "outputs": [
    {
     "name": "stdout",
     "output_type": "stream",
     "text": [
      "['on', 'off', 'on', 'off', 'on']\n"
     ]
    }
   ],
   "source": [
    "on_off_list = ['on','off','on','off','on'] # list can store dupplicate values\n",
    "print(on_off_list)"
   ]
  },
  {
   "cell_type": "code",
   "execution_count": 8,
   "metadata": {},
   "outputs": [
    {
     "name": "stdout",
     "output_type": "stream",
     "text": [
      "['a', 1, 2, 'b']\n"
     ]
    }
   ],
   "source": [
    "diff_objects = ['a',1,2,'b'] # list can store different types of elements\n",
    "print(diff_objects)"
   ]
  },
  {
   "cell_type": "code",
   "execution_count": 14,
   "metadata": {},
   "outputs": [
    {
     "name": "stdout",
     "output_type": "stream",
     "text": [
      "5\n",
      "0\n",
      "1\n",
      "10\n"
     ]
    }
   ],
   "source": [
    "numbers = [1,2,3,4,5] # length of list\n",
    "print(len(numbers))\n",
    "\n",
    "empty_list=list()\n",
    "print(len(empty_list)) # emplty list length is 0\n",
    "\n",
    "sigle_ele_list = ['available!'] # single element list length is 1\n",
    "print(len(sigle_ele_list))\n",
    "\n",
    "mul_ele_list = list('avaialble!') # multiple element list lenght is 10\n",
    "print(len(mul_ele_list))"
   ]
  },
  {
   "cell_type": "code",
   "execution_count": 17,
   "metadata": {},
   "outputs": [
    {
     "name": "stdout",
     "output_type": "stream",
     "text": [
      "python\n",
      "['p', 'y', 't', 'h', 'o', 'n']\n"
     ]
    }
   ],
   "source": [
    "input_str = 'python'\n",
    "print(input_str)\n",
    "input_str = list(input_str)\n",
    "print(input_str)"
   ]
  },
  {
   "cell_type": "markdown",
   "metadata": {},
   "source": [
    "# While Loop"
   ]
  },
  {
   "cell_type": "code",
   "execution_count": 18,
   "metadata": {},
   "outputs": [
    {
     "name": "stdout",
     "output_type": "stream",
     "text": [
      "0\n",
      "1\n",
      "2\n",
      "3\n",
      "4\n",
      "now number is greater or equal to 5\n"
     ]
    }
   ],
   "source": [
    "number = 0\n",
    "while number < 5:\n",
    "    print(number)\n",
    "    number = number + 1 # if we remove the incremental statement then it becomes infite loop\n",
    "print('now number is greater or equal to 5')"
   ]
  },
  {
   "cell_type": "markdown",
   "metadata": {},
   "source": [
    "# Example"
   ]
  },
  {
   "cell_type": "code",
   "execution_count": 2,
   "metadata": {},
   "outputs": [
    {
     "name": "stdout",
     "output_type": "stream",
     "text": [
      "8\n",
      "2\n",
      "4\n",
      "6\n"
     ]
    }
   ],
   "source": [
    "number = int(input())\n",
    "even_number = 2\n",
    "while (number > even_number):\n",
    "    print(even_number)\n",
    "    even_number = even_number + 2"
   ]
  },
  {
   "cell_type": "markdown",
   "metadata": {},
   "source": [
    "# For Loop"
   ]
  },
  {
   "cell_type": "markdown",
   "metadata": {},
   "source": [
    "for variable in iterable:\n",
    "    statement\n",
    " \n",
    "where statement is a block of operations executed for each item in iterable, an object used in iteration (e.g. string or list). Variable takes the value of the next iterable after each iteration."
   ]
  },
  {
   "cell_type": "code",
   "execution_count": 3,
   "metadata": {},
   "outputs": [
    {
     "name": "stdout",
     "output_type": "stream",
     "text": [
      "pacific\n",
      "atlantic\n",
      "indian\n"
     ]
    }
   ],
   "source": [
    "oceans = ['pacific','atlantic','indian']\n",
    "for ocean in oceans:\n",
    "    print(ocean)"
   ]
  },
  {
   "cell_type": "code",
   "execution_count": 4,
   "metadata": {},
   "outputs": [
    {
     "name": "stdout",
     "output_type": "stream",
     "text": [
      "m\n",
      "a\n",
      "g\n",
      "i\n",
      "c\n"
     ]
    }
   ],
   "source": [
    "for char in 'magic':\n",
    "    print(char)"
   ]
  },
  {
   "cell_type": "code",
   "execution_count": 7,
   "metadata": {},
   "outputs": [
    {
     "name": "stdout",
     "output_type": "stream",
     "text": [
      "How many times should I say \"Hello\"?5\n",
      "Hello!\n",
      "Hello!\n",
      "Hello!\n",
      "Hello!\n",
      "Hello!\n"
     ]
    }
   ],
   "source": [
    "times = int(input('How many times should I say \"Hello\"?'))\n",
    "for i in range(times): # without range, this will give an error of 'int' object is not iterable\n",
    "    print('Hello!')"
   ]
  },
  {
   "cell_type": "code",
   "execution_count": 8,
   "metadata": {},
   "outputs": [
    {
     "name": "stdout",
     "output_type": "stream",
     "text": [
      "0\n",
      "1\n",
      "2\n",
      "3\n",
      "4\n"
     ]
    }
   ],
   "source": [
    "for i in range(5): # Range function is used to specify the number of iterations, it retruns a sequence of numbers from 0 by default\n",
    "    print(i)"
   ]
  },
  {
   "cell_type": "code",
   "execution_count": 1,
   "metadata": {},
   "outputs": [
    {
     "name": "stdout",
     "output_type": "stream",
     "text": [
      "25\n",
      "30\n",
      "35\n",
      "40\n",
      "45\n"
     ]
    }
   ],
   "source": [
    "for i in range(25,50,5): # define starting,ending values with a increment. range(starting,ending,increment).ending value is not included in the output\n",
    "    print(i)"
   ]
  },
  {
   "cell_type": "code",
   "execution_count": 2,
   "metadata": {},
   "outputs": [
    {
     "name": "stdout",
     "output_type": "stream",
     "text": [
      "Rose Miller\n",
      "Daniel Miller\n"
     ]
    }
   ],
   "source": [
    "names = ['Rose', 'Daniel'] # Nested Loop exaple\n",
    "surnames = ['Miller']\n",
    "for name in names:\n",
    "    for surname in surnames:\n",
    "         print(name, surname)"
   ]
  },
  {
   "cell_type": "code",
   "execution_count": 3,
   "metadata": {},
   "outputs": [
    {
     "name": "stdout",
     "output_type": "stream",
     "text": [
      "1\n",
      "2\n",
      "3\n",
      "4\n"
     ]
    }
   ],
   "source": [
    "for x in range(1,5): # without increment value, default increment is 1\n",
    "    print(x)"
   ]
  },
  {
   "cell_type": "code",
   "execution_count": 4,
   "metadata": {},
   "outputs": [
    {
     "name": "stdout",
     "output_type": "stream",
     "text": [
      "-3\n",
      "-2\n",
      "-1\n",
      "-6\n",
      "-4\n",
      "-2\n",
      "-9\n",
      "-6\n",
      "-3\n"
     ]
    }
   ],
   "source": [
    "for x in range(1, 4):\n",
    "    for y in range(-3, 0):\n",
    "        print(x * y)"
   ]
  },
  {
   "cell_type": "code",
   "execution_count": 8,
   "metadata": {},
   "outputs": [
    {
     "name": "stdout",
     "output_type": "stream",
     "text": [
      "e\n",
      "e\n",
      "o\n",
      "o\n",
      "i\n",
      "e\n",
      "o\n",
      "a\n",
      "e\n",
      "o\n",
      "o\n",
      "e\n",
      "e\n",
      "e\n",
      "e\n",
      "e\n",
      "e\n",
      "e\n",
      "e\n",
      "e\n",
      "e\n",
      "e\n",
      "e\n"
     ]
    }
   ],
   "source": [
    "string = \"red yellow fox bite orange goose beeeeeeeeeeep\"\n",
    "vowels = 'aeiou'\n",
    "count = 0\n",
    "\n",
    "# fix this for loop\n",
    "for letter in string:\n",
    "    if letter in vowels:\n",
    "        print(letter)\n",
    "        count += 1"
   ]
  },
  {
   "cell_type": "code",
   "execution_count": 11,
   "metadata": {},
   "outputs": [
    {
     "name": "stdout",
     "output_type": "stream",
     "text": [
      "4901825\n",
      "four\n",
      "nine\n",
      "zero\n",
      "one\n",
      "eight\n",
      "two\n",
      "five\n"
     ]
    }
   ],
   "source": [
    "digits = ['zero','one','two','three','four','five','six','seven','eight','nine']\n",
    "number = input()\n",
    "for i in number:\n",
    "    print(digits[int(i)])"
   ]
  },
  {
   "cell_type": "code",
   "execution_count": 18,
   "metadata": {},
   "outputs": [
    {
     "name": "stdout",
     "output_type": "stream",
     "text": [
      "lowerCase\n",
      "lower_case\n"
     ]
    }
   ],
   "source": [
    "string =input()\n",
    "empty_string = \"\"\n",
    "for i in string:\n",
    "    if (str.isupper(i) == True):\n",
    "        empty_string = empty_string + '_' + str.lower(i)\n",
    "    else:\n",
    "        empty_string = empty_string + i\n",
    "print(empty_string)"
   ]
  },
  {
   "cell_type": "markdown",
   "metadata": {},
   "source": [
    "# Loop Control Statements"
   ]
  },
  {
   "cell_type": "code",
   "execution_count": 19,
   "metadata": {},
   "outputs": [
    {
     "name": "stdout",
     "output_type": "stream",
     "text": [
      "dog\n",
      "cat\n"
     ]
    }
   ],
   "source": [
    "# Example for break\n",
    "pets = ['dog', 'cat', 'parrot']\n",
    "for pet in pets:\n",
    "    print(pet)\n",
    "    if pet == 'cat':\n",
    "        break"
   ]
  },
  {
   "cell_type": "code",
   "execution_count": 20,
   "metadata": {},
   "outputs": [
    {
     "name": "stdout",
     "output_type": "stream",
     "text": [
      "cat\n",
      "parrot\n"
     ]
    }
   ],
   "source": [
    "# Example for continue\n",
    "pets = ['dog', 'cat', 'parrot']\n",
    "for pet in pets:\n",
    "    if pet == 'dog':\n",
    "        continue\n",
    "    print(pet)"
   ]
  },
  {
   "cell_type": "markdown",
   "metadata": {},
   "source": [
    "# Loop else \n",
    "Importantly, loop else runs if and only if the loop is exited normally (without hitting break). Also, it is run when the loop is never executed (e. g. the condition of the while loop is false right from the start)."
   ]
  },
  {
   "cell_type": "code",
   "execution_count": 21,
   "metadata": {},
   "outputs": [
    {
     "name": "stdout",
     "output_type": "stream",
     "text": [
      "dog\n",
      "cat\n",
      "parrot\n",
      "We need a turtle!\n"
     ]
    }
   ],
   "source": [
    "pets = ['dog', 'cat', 'parrot']\n",
    "for pet in pets:\n",
    "    print(pet)\n",
    "else:\n",
    "    print('We need a turtle!')\n",
    "# After loop ends, else statement will execute"
   ]
  },
  {
   "cell_type": "code",
   "execution_count": 30,
   "metadata": {},
   "outputs": [
    {
     "name": "stdout",
     "output_type": "stream",
     "text": [
      "I'm the happiest human being in the world!\n",
      "I'm the happiest human being in the world!\n",
      "Now I have no pancakes!\n"
     ]
    }
   ],
   "source": [
    "pancakes = 2\n",
    "while pancakes > 0:\n",
    "    print(\"I'm the happiest human being in the world!\")\n",
    "    pancakes -= 1\n",
    "    if pancakes == 0:\n",
    "        print(\"Now I have no pancakes!\")\n",
    "        break\n",
    "else:\n",
    "    print(\"No pancakes...\")"
   ]
  },
  {
   "cell_type": "markdown",
   "metadata": {},
   "source": [
    "Calculate the arithmetic mean of integer numbers. You will receive the integers on separate lines. The numeric sequence ends with a period ., so stop reading the input on it."
   ]
  },
  {
   "cell_type": "code",
   "execution_count": 3,
   "metadata": {},
   "outputs": [
    {
     "name": "stdout",
     "output_type": "stream",
     "text": [
      "2\n",
      "2 2.0 1\n",
      "2\n",
      "4 2.0 2\n",
      "2\n",
      "6 2.0 3\n",
      "4\n",
      "10 2.5 4\n",
      ".\n",
      "2.5\n"
     ]
    }
   ],
   "source": [
    "sum = 0\n",
    "counter = 1\n",
    "while True:\n",
    "    input_number = input()\n",
    "    if input_number == '.':\n",
    "        break\n",
    "    else:\n",
    "        input_number = int(input_number)\n",
    "        sum = sum + input_number\n",
    "        mean = sum / counter\n",
    "        #print(sum,mean,counter)\n",
    "        counter += 1\n",
    "print(mean)\n",
    "        \n",
    "        "
   ]
  },
  {
   "cell_type": "code",
   "execution_count": 20,
   "metadata": {},
   "outputs": [
    {
     "name": "stdout",
     "output_type": "stream",
     "text": [
      "C\n",
      "You won\n",
      "1\n"
     ]
    }
   ],
   "source": [
    "scores = input().split()\n",
    "correct_counter = 0\n",
    "incorrect_counter = 0\n",
    "#print(scores)\n",
    "for score in scores:\n",
    "    #print(score)\n",
    "    if score == 'C':\n",
    "        correct_counter += 1\n",
    "        if correct_counter == 50:\n",
    "            break\n",
    "    elif score == 'I':\n",
    "        incorrect_counter += 1\n",
    "        if incorrect_counter == 3:\n",
    "            print('Game over')\n",
    "            print(correct_counter)\n",
    "            break\n",
    "if incorrect_counter < 3:\n",
    "    print('You won')\n",
    "    print(correct_counter)\n",
    "else:\n",
    "    print()\n"
   ]
  },
  {
   "cell_type": "markdown",
   "metadata": {},
   "source": [
    "# Work on project. Stage 5/6: On a coffee loop"
   ]
  },
  {
   "cell_type": "markdown",
   "metadata": {},
   "source": [
    "# Description:\n",
    "Just one action is not so interesting, is it? Let's improve the program so it can do multiple actions, one after another. It should repeatedly ask a user what they want to do. If the user types \"buy\", \"fill\" or \"take\", then the program should do exactly the same thing it did in the previous step. However, if the user wants to switch off the coffee machine, they should type \"exit\". The program should terminate on this command. Also, when the user types \"remaining\", the program should output all the resources that the coffee machine has."
   ]
  },
  {
   "cell_type": "markdown",
   "metadata": {},
   "source": [
    "# Objectives\n",
    "\n",
    "Write a program that will work endlessly to make coffee for all interested persons until the shutdown signal is given. Introduce two new options: \"remaining\" and \"exit\".\n",
    "\n",
    "Do not forget that you can be out of resources for making coffee. If the coffee machine doesn't have enough resources to make coffee, the program should output a message that says it can't make a cup of coffee.\n",
    "\n",
    "And the last improvement to the program at this step — if the user types \"buy\" to buy a cup of coffee and then changes his mind, they should be able to type \"back\" to return into the main cycle."
   ]
  },
  {
   "cell_type": "markdown",
   "metadata": {},
   "source": [
    "# Define Variables"
   ]
  },
  {
   "cell_type": "code",
   "execution_count": 17,
   "metadata": {},
   "outputs": [],
   "source": [
    "water_remain = 400\n",
    "milk_remain = 540\n",
    "beans_remain = 120\n",
    "cups_remain = 9\n",
    "money_remain = 550"
   ]
  },
  {
   "cell_type": "markdown",
   "metadata": {},
   "source": [
    "# Define Coffee option function to take input from user"
   ]
  },
  {
   "cell_type": "code",
   "execution_count": 18,
   "metadata": {},
   "outputs": [],
   "source": [
    "def coffee_option(action):\n",
    "    coffee = input('What do you want to buy? 1 - espresso, 2 - latte, 3 - cappuccino, back - to main menu:')\n",
    "    if coffee == '1':\n",
    "        espresso()\n",
    "    elif coffee == '2':\n",
    "        latte()\n",
    "    elif coffee == '3':\n",
    "        cappuccino()\n",
    "    elif coffee == 'back':\n",
    "        act()\n",
    "    else:\n",
    "        print('')"
   ]
  },
  {
   "cell_type": "markdown",
   "metadata": {},
   "source": [
    "# Espresso function"
   ]
  },
  {
   "cell_type": "code",
   "execution_count": 20,
   "metadata": {},
   "outputs": [],
   "source": [
    "\n",
    "def espresso():\n",
    "    espresso_water = 250\n",
    "    espress_milk = 0\n",
    "    espresso_beans = 16\n",
    "    espresso_cost = 4\n",
    "    global water_remain\n",
    "    global milk_remain\n",
    "    global beans_remain\n",
    "    global money_remain\n",
    "    global cups_remain\n",
    "    if ((water_remain - espresso_water) >= 0 and (milk_remain - espress_milk) >=0 and (beans_remain - espresso_beans) >=0 \n",
    "        and (cups_remain - 1) >=0 ):\n",
    "        water_remain = water_remain - espresso_water\n",
    "        milk_remain = milk_remain - espress_milk\n",
    "        beans_remain = beans_remain - espresso_beans\n",
    "        cups_remain = cups_remain - 1\n",
    "        money_remain = money_remain + espresso_cost\n",
    "        print('I have enough resources, making you a coffee!')\n",
    "        act()\n",
    "    elif ((water_remain - espresso_water) < 0):\n",
    "        #water_remain = water_remain + espresso_water\n",
    "        #money_remain = money_remain - latte_cost\n",
    "        print('Sorry, not enough water!')\n",
    "        act()\n",
    "    elif ((milk_remain - espress_milk) < 0):\n",
    "        #milk_remain = milk_remain + espress_milk\n",
    "        #money_remain = money_remain - latte_cost\n",
    "        print('Sorry, not enough milk!')\n",
    "        act()\n",
    "    elif ((beans_remain - espresso_beans) < 0):\n",
    "        beans_remain = beans_remain + espresso_beans\n",
    "        #money_remain = money_remain - latte_cost\n",
    "        print('Sorry, not enough beans!')\n",
    "        act()\n",
    "    elif (cups_remain - 1 < 0):\n",
    "        cups_remain = cups_remain + 1\n",
    "        #money_remain = money_remain - latte_cost\n",
    "        print('Sorry, not enough cups!')\n",
    "        act()\n",
    "    else:\n",
    "        print('')\n",
    "        act()"
   ]
  },
  {
   "cell_type": "markdown",
   "metadata": {},
   "source": [
    "# Latte function"
   ]
  },
  {
   "cell_type": "code",
   "execution_count": 22,
   "metadata": {},
   "outputs": [],
   "source": [
    "def latte():\n",
    "    latte_water = 350\n",
    "    latte_milk = 75\n",
    "    latte_beans = 20\n",
    "    latte_cost = 7\n",
    "    global water_remain\n",
    "    global milk_remain\n",
    "    global beans_remain\n",
    "    global money_remain\n",
    "    global cups_remain\n",
    "    if ((water_remain - latte_water) >= 0 and (milk_remain - latte_milk) >=0 and (beans_remain - latte_beans) >=0 \n",
    "        and (cups_remain - 1) >=0 ):\n",
    "        water_remain = water_remain - latte_water\n",
    "        milk_remain = milk_remain - latte_milk\n",
    "        beans_remain = beans_remain - latte_beans\n",
    "        cups_remain = cups_remain - 1\n",
    "        money_remain = money_remain + latte_cost\n",
    "        print('I have enough resources, making you a coffee!')\n",
    "        act()\n",
    "    elif ((water_remain - latte_water) < 0):\n",
    "        #water_remain = water_remain + latte_water\n",
    "        #money_remain = money_remain - latte_cost\n",
    "        print('Sorry, not enough water!')\n",
    "        act()\n",
    "    elif ((milk_remain - latte_milk) < 0):\n",
    "        #milk_remain = milk_remain + latte_milk\n",
    "        #money_remain = money_remain - latte_cost\n",
    "        print('Sorry, not enough milk!')\n",
    "        act()\n",
    "    elif ((beans_remain - latte_beans) < 0):\n",
    "        beans_remain = beans_remain + latte_beans\n",
    "        #money_remain = money_remain - latte_cost\n",
    "        print('Sorry, not enough beans!')\n",
    "        act()\n",
    "    elif (cups_remain - 1 < 0):\n",
    "        #cups_remain = cups_remain + 1\n",
    "        #money_remain = money_remain - latte_cost\n",
    "        print('Sorry, not enough cups!')\n",
    "        act()\n",
    "    else:\n",
    "        print('')\n",
    "        act()"
   ]
  },
  {
   "cell_type": "markdown",
   "metadata": {},
   "source": [
    "# Cappuccino function"
   ]
  },
  {
   "cell_type": "code",
   "execution_count": 23,
   "metadata": {},
   "outputs": [],
   "source": [
    "def cappuccino():\n",
    "    cappuccino_water = 200\n",
    "    cappuccino_milk = 100\n",
    "    cappuccino_beans = 12\n",
    "    cappuccino_cost = 6\n",
    "    global water_remain\n",
    "    global milk_remain\n",
    "    global beans_remain\n",
    "    global money_remain\n",
    "    global cups_remain\n",
    "    if ((water_remain - cappuccino_water) >= 0 and (milk_remain - cappuccino_milk) >=0 and (beans_remain - cappuccino_beans) >=0 \n",
    "        and (cups_remain - 1) >=0 ):\n",
    "        water_remain = water_remain - cappuccino_water\n",
    "        milk_remain = milk_remain - cappuccino_milk\n",
    "        beans_remain = beans_remain - cappuccino_beans\n",
    "        cups_remain = cups_remain - 1\n",
    "        money_remain = money_remain + cappuccino_cost\n",
    "        print('I have enough resources, making you a coffee!')\n",
    "        act()\n",
    "    elif ((water_remain - cappuccino_water) < 0):\n",
    "        #water_remain = water_remain + cappuccino_water\n",
    "        #money_remain = money_remain - latte_cost\n",
    "        print('Sorry, not enough water!')\n",
    "        act()\n",
    "    elif ((milk_remain - cappuccino_milk) < 0):\n",
    "        #milk_remain = milk_remain + cappuccino_milk\n",
    "        #money_remain = money_remain - latte_cost\n",
    "        print('Sorry, not enough milk!')\n",
    "        act()\n",
    "    elif ((beans_remain - cappuccino_beans) < 0):\n",
    "        #beans_remain = beans_remain + cappuccino_beans\n",
    "        #money_remain = money_remain - latte_cost\n",
    "        print('Sorry, not enough beans!')\n",
    "        act()\n",
    "    elif (cups_remain - 1 < 0):\n",
    "        #cups_remain = cups_remain + 1\n",
    "        #money_remain = money_remain - latte_cost\n",
    "        print('Sorry, not enough cups!')\n",
    "        act()\n",
    "    else:\n",
    "        print('')\n",
    "        act()"
   ]
  },
  {
   "cell_type": "markdown",
   "metadata": {},
   "source": [
    "# Fill function"
   ]
  },
  {
   "cell_type": "code",
   "execution_count": 24,
   "metadata": {},
   "outputs": [],
   "source": [
    "def fill(action):\n",
    "    water_add = int(input('Write how many ml of water do you want to add:'))\n",
    "    milk_add = int(input('Write how many ml of milk do you want to add:'))\n",
    "    beans_add =int(input('Write how many grams of coffee beans do you want to add:'))\n",
    "    cups_add = int(input('Write how many disposable cups of coffee do you want to add:'))\n",
    "    global water_remain\n",
    "    global milk_remain\n",
    "    global beans_remain\n",
    "    global money_remain\n",
    "    global cups_remain\n",
    "    water_remain = water_remain + water_add\n",
    "    milk_remain = milk_remain + milk_add\n",
    "    beans_remain = beans_remain + beans_add\n",
    "    cups_remain = cups_remain + cups_add\n",
    "    act()"
   ]
  },
  {
   "cell_type": "markdown",
   "metadata": {},
   "source": [
    "# Take Function"
   ]
  },
  {
   "cell_type": "code",
   "execution_count": 25,
   "metadata": {},
   "outputs": [],
   "source": [
    "def take(action):\n",
    "    global money_remain\n",
    "    print(f\"I gave you ${money_remain}\")\n",
    "    money_remain = 0\n",
    "    act()"
   ]
  },
  {
   "cell_type": "markdown",
   "metadata": {},
   "source": [
    "# User input"
   ]
  },
  {
   "cell_type": "code",
   "execution_count": 26,
   "metadata": {},
   "outputs": [
    {
     "name": "stdout",
     "output_type": "stream",
     "text": [
      "Write action (buy, fill, take, remaining, exit):remaining\n",
      "The coffee machine has:\n",
      "400 of water\n",
      "540 of milk\n",
      "120 of coffee beans\n",
      "9 of disposable cups\n",
      "550 of money\n",
      "Write action (buy, fill, take, remaining, exit):buy\n",
      "What do you want to buy? 1 - espresso, 2 - latte, 3 - cappuccino, back - to main menu:2\n",
      "I have enough resources, making you a coffee!\n",
      "Write action (buy, fill, take, remaining, exit):remaining\n",
      "The coffee machine has:\n",
      "50 of water\n",
      "465 of milk\n",
      "100 of coffee beans\n",
      "8 of disposable cups\n",
      "557 of money\n",
      "Write action (buy, fill, take, remaining, exit):buy\n",
      "What do you want to buy? 1 - espresso, 2 - latte, 3 - cappuccino, back - to main menu:2\n",
      "Sorry, not enough water!\n",
      "Write action (buy, fill, take, remaining, exit):fill\n",
      "Write how many ml of water do you want to add:1000\n",
      "Write how many ml of milk do you want to add:0\n",
      "Write how many grams of coffee beans do you want to add:0\n",
      "Write how many disposable cups of coffee do you want to add:0\n",
      "Write action (buy, fill, take, remaining, exit):remaining\n",
      "The coffee machine has:\n",
      "1050 of water\n",
      "465 of milk\n",
      "100 of coffee beans\n",
      "8 of disposable cups\n",
      "557 of money\n",
      "Write action (buy, fill, take, remaining, exit):buy\n",
      "What do you want to buy? 1 - espresso, 2 - latte, 3 - cappuccino, back - to main menu:2\n",
      "I have enough resources, making you a coffee!\n",
      "Write action (buy, fill, take, remaining, exit):remaining\n",
      "The coffee machine has:\n",
      "700 of water\n",
      "390 of milk\n",
      "80 of coffee beans\n",
      "7 of disposable cups\n",
      "564 of money\n",
      "Write action (buy, fill, take, remaining, exit):take\n",
      "I gave you $564\n",
      "Write action (buy, fill, take, remaining, exit):remaining\n",
      "The coffee machine has:\n",
      "700 of water\n",
      "390 of milk\n",
      "80 of coffee beans\n",
      "7 of disposable cups\n",
      "0 of money\n",
      "Write action (buy, fill, take, remaining, exit):exit\n",
      "\n"
     ]
    }
   ],
   "source": [
    "def remaining(action):\n",
    "    print('The coffee machine has:')\n",
    "    print(f\"{water_remain} of water\")\n",
    "    print(f\"{milk_remain} of milk\")\n",
    "    print(f\"{beans_remain} of coffee beans\")\n",
    "    print(f\"{cups_remain} of disposable cups\")\n",
    "    print(f\"{money_remain} of money\")\n",
    "    act()\n",
    "\n",
    "def act():\n",
    "    action = input('Write action (buy, fill, take, remaining, exit):')\n",
    "    if action == 'buy':\n",
    "        coffee_option(action)\n",
    "    elif action == 'fill':\n",
    "        fill(action)\n",
    "    elif action == 'take':\n",
    "        take(action)\n",
    "    elif action == 'remaining':\n",
    "        remaining(action)\n",
    "    elif action =='exit':\n",
    "        print('')\n",
    "    else:\n",
    "        print('')\n",
    "\n",
    "act()"
   ]
  }
 ],
 "metadata": {
  "kernelspec": {
   "display_name": "Python 3",
   "language": "python",
   "name": "python3"
  },
  "language_info": {
   "codemirror_mode": {
    "name": "ipython",
    "version": 3
   },
   "file_extension": ".py",
   "mimetype": "text/x-python",
   "name": "python",
   "nbconvert_exporter": "python",
   "pygments_lexer": "ipython3",
   "version": "3.6.5"
  }
 },
 "nbformat": 4,
 "nbformat_minor": 2
}
