{
 "cells": [
  {
   "cell_type": "markdown",
   "metadata": {},
   "source": [
    "# Object Oriented Programming"
   ]
  },
  {
   "cell_type": "markdown",
   "metadata": {},
   "source": [
    "# Fundamentals\n",
    "Object-oriented programming (OOP) is a programming paradigm based on the concept of objects that interact with each other to perform the program functions. Each object can be characterized by a state and behavior. An object keeps the current state in the fields and the behavior in the methods."
   ]
  },
  {
   "cell_type": "markdown",
   "metadata": {},
   "source": [
    "# Theory : Basic principles of OOP\n",
    "\n",
    "There are four basic principles of OOP. They are encapsulation, abstraction, inheritance, and polymorphism. \n",
    "\n",
    "1. Data encapsulation is the mechanism of hiding the internal data of objects from the world. All interaction with the object and its data are performed through its public methods. Encapsulation allows programmers to protect the object from inconsistency.\n",
    "2. Data abstraction means that objects should provide the simplified, abstract version of their implementations. The details of their internal work usually aren't necessary for the user, so there's no need to represent them. Abstraction also means that only the most relevant features of the object will be presented.\n",
    "3. Inheritance is a mechanism for defining parent-child relationships between classes. Often objects are very similar, so inheritance allows programmers to reuse common logic and at the same time introduce unique concepts into the classes.\n",
    "4. Polymorphism literally means one name and many forms, and it concerns the inheritance of the classes. Just as the name suggests, it allows programmers to define different logic of the same method. So, the name (or interface) stays the same, but the actions performed may be different. In practice, it is done with overloading or overriding."
   ]
  },
  {
   "cell_type": "markdown",
   "metadata": {},
   "source": [
    "# Objects\n",
    "\n",
    "The key notion of the OOP is, naturally, an object. There are a lot of real-world objects around you: pets, buildings, cars, computers, planes, you name it. Even a computer program may be considered as an object.\n",
    "\n",
    "It's possible to identify some important characteristics for real-world objects. For instance, for a building, we can consider a number of floors, the year of construction and the total area. Another example is a plane that can accommodate a certain number of passengers and transfer you from one city to another. These characteristics constitute the object's attributes and methods. Attributes characterize objects' data or states, and methods — its behavior.\n",
    "\n",
    "In OOP, everything can be considered an object. Programs are made from different objects interacting with each other. An object's state and behavior are usually placed together, but it's not always so. Sometimes, we will see objects without a state or methods. This, of course, depends on the purpose of the program and the nature of an object."
   ]
  },
  {
   "cell_type": "code",
   "execution_count": 18,
   "metadata": {},
   "outputs": [
    {
     "name": "stdout",
     "output_type": "stream",
     "text": [
      "Did that stop the old Grinch?\n",
      "No! The Grinch simply said,\n",
      "\"If I can't find a reindeer,\n",
      "I'll make one instead!\"\n"
     ]
    }
   ],
   "source": [
    "print('''Did that stop the old Grinch?\n",
    "No! The Grinch simply said,\n",
    "\"If I can't find a reindeer,\n",
    "I'll make one instead!\"''')"
   ]
  },
  {
   "cell_type": "markdown",
   "metadata": {},
   "source": [
    "# Theory: String formatting str.fromat()"
   ]
  },
  {
   "cell_type": "code",
   "execution_count": 19,
   "metadata": {},
   "outputs": [
    {
     "name": "stdout",
     "output_type": "stream",
     "text": [
      "Mix 2 eggs, 30 g of milk and a pinch of salt to make an ideal omelet.\n"
     ]
    }
   ],
   "source": [
    "print('Mix {}, {} and a {} to make an ideal omelet.'.format('2 eggs', '30 g of milk', 'pinch of salt'))"
   ]
  },
  {
   "cell_type": "code",
   "execution_count": 20,
   "metadata": {},
   "outputs": [
    {
     "name": "stdout",
     "output_type": "stream",
     "text": [
      "Strangers in the Night by Frank Sinatra\n"
     ]
    }
   ],
   "source": [
    "print('{0} in the {1} by Frank Sinatra'.format('Strangers', 'Night')) # address the objects by position"
   ]
  },
  {
   "cell_type": "code",
   "execution_count": 21,
   "metadata": {},
   "outputs": [
    {
     "name": "stdout",
     "output_type": "stream",
     "text": [
      "Night in the Strangers by Frank Sinatra\n"
     ]
    }
   ],
   "source": [
    "print('{1} in the {0} by Frank Sinatra'.format('Strangers', 'Night')) # address the objects by position"
   ]
  },
  {
   "cell_type": "code",
   "execution_count": 22,
   "metadata": {},
   "outputs": [
    {
     "name": "stdout",
     "output_type": "stream",
     "text": [
      "The Lord of the Rings at BFI Max was incredible\n"
     ]
    }
   ],
   "source": [
    "print('The {film} at {theater} was {adjective}'.format(film ='Lord of the Rings', theater='BFI Max', adjective='incredible'))"
   ]
  },
  {
   "cell_type": "code",
   "execution_count": 23,
   "metadata": {},
   "outputs": [
    {
     "name": "stdout",
     "output_type": "stream",
     "text": [
      "The Lord of the Rings was incredible!\n"
     ]
    }
   ],
   "source": [
    "print('The {0} was {adjective}!'.format('Lord of the Rings', adjective='incredible')) # both positional and keyword"
   ]
  },
  {
   "cell_type": "markdown",
   "metadata": {},
   "source": [
    "# Formatter string literals\n",
    "f-string used to embed the values of expressions inside string literals."
   ]
  },
  {
   "cell_type": "code",
   "execution_count": 24,
   "metadata": {},
   "outputs": [
    {
     "data": {
      "text/plain": [
       "'Elizabeth II, the Queen of the United Kingdom and the other Commonwealth realms, is the longest-lived and longest-reigning British monarch.'"
      ]
     },
     "execution_count": 24,
     "metadata": {},
     "output_type": "execute_result"
    }
   ],
   "source": [
    "name = 'Elizabeth II'\n",
    "title = 'Queen of the United Kingdom and the other Commonwealth realms'\n",
    "reign = 'the longest-lived and longest-reigning British monarch'\n",
    "f'{name}, the {title}, is {reign}.'"
   ]
  },
  {
   "cell_type": "code",
   "execution_count": 25,
   "metadata": {},
   "outputs": [
    {
     "name": "stdout",
     "output_type": "stream",
     "text": [
      "16% from 1823 is 291.68\n",
      "Rounding 291.68 to 1 decimal place is 291.7\n"
     ]
    }
   ],
   "source": [
    "hundred_percent_number = 1823\n",
    "needed_percent = 16\n",
    "needed_percent_number = hundred_percent_number * needed_percent / 100\n",
    " \n",
    "print(f'{needed_percent}% from {hundred_percent_number} is {needed_percent_number}')\n",
    "# 16% from 1823 is 291.68\n",
    " \n",
    "print(f'Rounding {needed_percent_number} to 1 decimal place is {needed_percent_number:.1f}')\n",
    "# Rounding 291.68 to 1 decimal place is 291.7"
   ]
  },
  {
   "cell_type": "code",
   "execution_count": 42,
   "metadata": {},
   "outputs": [
    {
     "data": {
      "text/plain": [
       "'17'"
      ]
     },
     "execution_count": 42,
     "metadata": {},
     "output_type": "execute_result"
    }
   ],
   "source": [
    "'%.0f' % (100/6)"
   ]
  },
  {
   "cell_type": "code",
   "execution_count": 27,
   "metadata": {},
   "outputs": [
    {
     "data": {
      "text/plain": [
       "'100 divided by 6 equals 16.666666666666668'"
      ]
     },
     "execution_count": 27,
     "metadata": {},
     "output_type": "execute_result"
    }
   ],
   "source": [
    "'{1} divided by {0} equals {2}'.format(6, 100, 100/6)"
   ]
  },
  {
   "cell_type": "code",
   "execution_count": 44,
   "metadata": {},
   "outputs": [
    {
     "data": {
      "text/plain": [
       "'100 divided by 6 equals 17'"
      ]
     },
     "execution_count": 44,
     "metadata": {},
     "output_type": "execute_result"
    }
   ],
   "source": [
    "'{} divided by {} equals {:.0f}'.format(100, 6, 100/6)"
   ]
  },
  {
   "cell_type": "code",
   "execution_count": 29,
   "metadata": {},
   "outputs": [
    {
     "ename": "SyntaxError",
     "evalue": "positional argument follows keyword argument (<ipython-input-29-d35227eb4288>, line 1)",
     "output_type": "error",
     "traceback": [
      "\u001b[1;36m  File \u001b[1;32m\"<ipython-input-29-d35227eb4288>\"\u001b[1;36m, line \u001b[1;32m1\u001b[0m\n\u001b[1;33m    \"{1} is a {kind}\".format(kind=\"fruit\", \"grapefruit\")\u001b[0m\n\u001b[1;37m                                          ^\u001b[0m\n\u001b[1;31mSyntaxError\u001b[0m\u001b[1;31m:\u001b[0m positional argument follows keyword argument\n"
     ]
    }
   ],
   "source": [
    "\"{1} is a {kind}\".format(kind=\"fruit\", \"grapefruit\")"
   ]
  },
  {
   "cell_type": "code",
   "execution_count": 30,
   "metadata": {},
   "outputs": [
    {
     "data": {
      "text/plain": [
       "'Lisbon is the capital of Portugal'"
      ]
     },
     "execution_count": 30,
     "metadata": {},
     "output_type": "execute_result"
    }
   ],
   "source": [
    "\"{city} is the capital of {country}\".format(country=\"Portugal\",\n",
    "                                            city=\"Lisbon\")"
   ]
  },
  {
   "cell_type": "code",
   "execution_count": 31,
   "metadata": {},
   "outputs": [
    {
     "data": {
      "text/plain": [
       "'2 2 2'"
      ]
     },
     "execution_count": 31,
     "metadata": {},
     "output_type": "execute_result"
    }
   ],
   "source": [
    "\"{1} {1} {1}\".format(1, 2, 3)"
   ]
  },
  {
   "cell_type": "code",
   "execution_count": 32,
   "metadata": {},
   "outputs": [
    {
     "data": {
      "text/plain": [
       "'%.4f'"
      ]
     },
     "execution_count": 32,
     "metadata": {},
     "output_type": "execute_result"
    }
   ],
   "source": [
    "\"%.4f\".format(3.14159265358979)"
   ]
  },
  {
   "cell_type": "code",
   "execution_count": 33,
   "metadata": {},
   "outputs": [
    {
     "name": "stdout",
     "output_type": "stream",
     "text": [
      "5.25\n"
     ]
    }
   ],
   "source": [
    "print('%.2f' % (21/4))"
   ]
  },
  {
   "cell_type": "code",
   "execution_count": 36,
   "metadata": {},
   "outputs": [
    {
     "name": "stdout",
     "output_type": "stream",
     "text": [
      "hello\n",
      "hello has 5 letters\n"
     ]
    }
   ],
   "source": [
    "string = input()\n",
    "length = len(string)\n",
    "print(f\"{string} has {length} letters\")"
   ]
  },
  {
   "cell_type": "code",
   "execution_count": 46,
   "metadata": {},
   "outputs": [
    {
     "name": "stdout",
     "output_type": "stream",
     "text": [
      "132407\n",
      "The tax for 132407 is 35%. That is 46342 dollars!\n"
     ]
    }
   ],
   "source": [
    "income = int(input())\n",
    "if(0 <= income <= 15527):\n",
    "    tax_per = 0\n",
    "    tax_income = tax_per * income\n",
    "elif(15528 <= income <= 42707):\n",
    "    tax_per = 15\n",
    "    tax_income = (tax_per/100) * income\n",
    "elif(42708 <= income <= 132406):\n",
    "    tax_per = 25\n",
    "    tax_income = (tax_per/100) * income\n",
    "elif(income >= 132407):\n",
    "    tax_per = 35\n",
    "    tax_income = (tax_per/100) * income\n",
    "#else:\n",
    "    #print('')\n",
    "print(\"The tax for {} is {}%. That is {:.0f} dollars!\".format(income,tax_per,tax_income))"
   ]
  },
  {
   "cell_type": "markdown",
   "metadata": {},
   "source": [
    "# Class\n",
    "-> objects have states and behaviours.\n",
    "-> If different objects have similar characteristics, then create a class for similar objects\n",
    "-> Classes represent similar structure for similar objects: their data and their behaviour"
   ]
  },
  {
   "cell_type": "code",
   "execution_count": null,
   "metadata": {},
   "outputs": [],
   "source": [
    "# class syntax\n",
    "class Myclass:\n",
    "    var1 = ... # define variable\n",
    "    .....\n",
    "    \n",
    "    def do_somthing(left):\n",
    "        #some method"
   ]
  },
  {
   "cell_type": "markdown",
   "metadata": {},
   "source": [
    "A method is similar to a function in that it is a block of code that has a name and performs a certain action. Methods, however, are not independent since they are defined within a class. Data within classes are stored in the attributes (variables) and there are two kinds of them: class attributes and instance attributes."
   ]
  },
  {
   "cell_type": "markdown",
   "metadata": {},
   "source": [
    "# Class Attribute\n",
    "A class attribute is an attribute shared by all instances of the class. Let's consider the class Book as an example:"
   ]
  },
  {
   "cell_type": "code",
   "execution_count": 2,
   "metadata": {},
   "outputs": [],
   "source": [
    "#This class has a string variable material with the value \"paper\", \n",
    "#a string variable cover with the value \"paperback\" and \n",
    "#an empty list as an attribute all_books\n",
    "\n",
    "# Book class\n",
    "class Book:\n",
    "    material = \"paper\"\n",
    "    cover = \"paperback\"\n",
    "    all_books = [] # empty list"
   ]
  },
  {
   "cell_type": "code",
   "execution_count": 4,
   "metadata": {},
   "outputs": [
    {
     "data": {
      "text/plain": [
       "'paper'"
      ]
     },
     "execution_count": 4,
     "metadata": {},
     "output_type": "execute_result"
    }
   ],
   "source": [
    "# All those variables are class attributes and they can be accessed using the dot notation with the name of the class:\n",
    "Book.material  # \"paper\"\n",
    "Book.cover  # \"paperback\"\n",
    "Book.all_books  # []\n",
    "# Class attributes are defined within the class but outside of any methods. \n",
    "# Their value is the same for all instances of that class so you could consider them \n",
    "# as the sort of \"default\" values for all objects."
   ]
  },
  {
   "cell_type": "markdown",
   "metadata": {},
   "source": [
    "# Class instance"
   ]
  },
  {
   "cell_type": "code",
   "execution_count": 7,
   "metadata": {},
   "outputs": [],
   "source": [
    "# let's create an instance of a Book class.\n",
    "my_book = Book()\n",
    "# Here we not only created an instance of a Book class but also assigned it to the variable my_book."
   ]
  },
  {
   "cell_type": "code",
   "execution_count": 9,
   "metadata": {},
   "outputs": [
    {
     "name": "stdout",
     "output_type": "stream",
     "text": [
      "paper\n",
      "paperback\n",
      "[]\n"
     ]
    }
   ],
   "source": [
    "# Our my_book object has access to the contents of the class Book: its attributes and methods.\n",
    "print(my_book.material)  # \"paper\"\n",
    "print(my_book.cover)  # \"paperback\"\n",
    "print(my_book.all_books)  # []"
   ]
  },
  {
   "cell_type": "code",
   "execution_count": 10,
   "metadata": {},
   "outputs": [
    {
     "name": "stdout",
     "output_type": "stream",
     "text": [
      "white\n",
      "red\n",
      "wings\n",
      "horns\n",
      "Heaven\n",
      "Hell\n"
     ]
    }
   ],
   "source": [
    "class Angel:\n",
    "    color = \"white\"\n",
    "    feature = \"wings\"\n",
    "    home = \"Heaven\"\n",
    "\n",
    "\n",
    "class Demon:\n",
    "    color = \"red\"\n",
    "    feature = \"horns\"\n",
    "    home = \"Hell\"\n",
    "    \n",
    "my_angel = Angel() # Class instances\n",
    "my_demon = Demon() # Class instances\n",
    "\n",
    "print(my_angel.color)\n",
    "print(my_demon.color)\n",
    "print(my_angel.feature)\n",
    "print(my_demon.feature)\n",
    "print(my_angel.home)\n",
    "print(my_demon.home)"
   ]
  },
  {
   "cell_type": "markdown",
   "metadata": {},
   "source": [
    "# Theory : Class Instances\n",
    "A class instance is an object of the class. If, for example, there was a class River,  we could create such instances as Volga, Seine, and Nile.\n",
    "However, initially, all instances of the class would be identical to one another. Most of the time that is not what we want. To customize the initial state of an instance, the __init__ method is used."
   ]
  },
  {
   "cell_type": "markdown",
   "metadata": {},
   "source": [
    "# def __init__()\n",
    "The __init__ method is a constructor. Constructors are a concept from the object-oriented programming. A class can have one and only one constructor. If __init__ is defined within a class, it is automatically invoked when we create a new class instance.\n",
    "\n",
    "The __init__ method specifies what attributes we want the instances of our class to have from the very beginning. In our example, they are name and length. "
   ]
  },
  {
   "cell_type": "code",
   "execution_count": 2,
   "metadata": {},
   "outputs": [
    {
     "name": "stdout",
     "output_type": "stream",
     "text": [
      "Volga\n",
      "Seine\n",
      "Nile\n"
     ]
    }
   ],
   "source": [
    "# class definition\n",
    "class River:\n",
    "    all_rivers = [] # class attributes\n",
    "    \n",
    "    def __init__(self,name,length): # class constructor\n",
    "        self.name = name\n",
    "        self.length = length\n",
    "        # add current river to the list of all rivers\n",
    "        River.all_rivers.append(self)\n",
    "\n",
    "# class instances or objects\n",
    "volga = River(\"Volga\",3530)\n",
    "seine = River(\"Seine\", 776)\n",
    "nile = River(\"Nile\", 6852)\n",
    "\n",
    "# print all river names\n",
    "for abc in River.all_rivers:\n",
    "    print(abc.name)"
   ]
  },
  {
   "cell_type": "markdown",
   "metadata": {},
   "source": [
    "# Self\n",
    "The self argument represents a particular instance of the class and allows us to access its attributes and methods. In the example with __init__, we basically create attributes for the particular instance and assign the values of method arguments to them. It is important to use the self parameter inside the method if we want to save the values of the instance for the later use."
   ]
  },
  {
   "cell_type": "markdown",
   "metadata": {},
   "source": [
    "Most of the time we also need to write the self parameter in other methods because when the method is called the first argument that is passed to the method is the object itself. Let's add a method to our River class and see how it works"
   ]
  },
  {
   "cell_type": "code",
   "execution_count": 6,
   "metadata": {},
   "outputs": [
    {
     "name": "stdout",
     "output_type": "stream",
     "text": [
      "The length of the Volga is 3530 km\n",
      "The length of the Seine is 776 km\n",
      "The length of the Nile is 6852 km\n"
     ]
    }
   ],
   "source": [
    "class River:\n",
    "    all_rivers = []\n",
    " \n",
    "    def __init__(self, name, length):\n",
    "        self.name = name\n",
    "        self.length = length\n",
    "        River.all_rivers.append(self)\n",
    " \n",
    "    def get_info(self):\n",
    "        print(\"The length of the {0} is {1} km\".format(self.name, self.length))\n",
    "        \n",
    "volga.get_info()\n",
    "# The length of the Volga is 3530 km\n",
    "seine.get_info()\n",
    "# The length of the Seine is 776 km\n",
    "nile.get_info()\n",
    "# The length of the Nile is 6852 km"
   ]
  },
  {
   "cell_type": "markdown",
   "metadata": {},
   "source": [
    "The self parameter (that represents a particular instance of the class) is passed to the instance method implicitly when it is called. So there are actually two ways to call an instance method: self.method() or class.method(self). In our example it would look like this:"
   ]
  },
  {
   "cell_type": "code",
   "execution_count": 7,
   "metadata": {},
   "outputs": [
    {
     "name": "stdout",
     "output_type": "stream",
     "text": [
      "The length of the Volga is 3530 km\n",
      "The length of the Volga is 3530 km\n"
     ]
    }
   ],
   "source": [
    "# self.method()\n",
    "volga.get_info()\n",
    "# The length of the Volga is 3530 km\n",
    " \n",
    "# class.method(self)\n",
    "River.get_info(volga)\n",
    "# The length of the Volga is 3530 km"
   ]
  },
  {
   "cell_type": "markdown",
   "metadata": {},
   "source": [
    "# Instance Attributes\n",
    "Instance attributes are defined within methods and they store instance-specific information.\n",
    "In the class River, the attributes name and length are instance attributes since they are defined within a method (__init__) and have self before them. Usually, instance attributes are created within the __init__ method since it's the constructor, but you can define instance attributes in other methods as well. However, it's not recommended so we advise you to stick to the __init__."
   ]
  },
  {
   "cell_type": "code",
   "execution_count": 8,
   "metadata": {},
   "outputs": [
    {
     "ename": "AttributeError",
     "evalue": "type object 'River' has no attribute 'name'",
     "output_type": "error",
     "traceback": [
      "\u001b[1;31m---------------------------------------------------------------------------\u001b[0m",
      "\u001b[1;31mAttributeError\u001b[0m                            Traceback (most recent call last)",
      "\u001b[1;32m<ipython-input-8-0ee4fb4fe535>\u001b[0m in \u001b[0;36m<module>\u001b[1;34m()\u001b[0m\n\u001b[0;32m      1\u001b[0m \u001b[1;31m# Instance attributes are available only from the scope of the object which is why this code will produce a mistake:\u001b[0m\u001b[1;33m\u001b[0m\u001b[1;33m\u001b[0m\u001b[0m\n\u001b[1;32m----> 2\u001b[1;33m \u001b[0mprint\u001b[0m\u001b[1;33m(\u001b[0m\u001b[0mRiver\u001b[0m\u001b[1;33m.\u001b[0m\u001b[0mname\u001b[0m\u001b[1;33m)\u001b[0m\u001b[1;33m\u001b[0m\u001b[0m\n\u001b[0m",
      "\u001b[1;31mAttributeError\u001b[0m: type object 'River' has no attribute 'name'"
     ]
    }
   ],
   "source": [
    "# Instance attributes are available only from the scope of the object which is why this code will produce a mistake:\n",
    "print(River.name)"
   ]
  },
  {
   "cell_type": "code",
   "execution_count": 9,
   "metadata": {},
   "outputs": [
    {
     "data": {
      "text/plain": [
       "'Volga'"
      ]
     },
     "execution_count": 9,
     "metadata": {},
     "output_type": "execute_result"
    }
   ],
   "source": [
    "# Instance attributes, naturally, are used to distinguish objects: their values are different for different instances.\n",
    "volga.name"
   ]
  },
  {
   "cell_type": "code",
   "execution_count": 26,
   "metadata": {},
   "outputs": [
    {
     "name": "stdout",
     "output_type": "stream",
     "text": [
      "TJames Cameron1997\n",
      "SGeorge Lucas1977\n",
      "FDavid Fincher1999\n"
     ]
    }
   ],
   "source": [
    "class Movie:\n",
    "    attributes = []\n",
    "    # create class here\n",
    "    def __init__(self, title, director, year):\n",
    "        self.title = title\n",
    "        self.director = director\n",
    "        self.year = year\n",
    "        # add current movie to the list of attributes\n",
    "        Movie.attributes.append(self)\n",
    "\n",
    "# objects of the class Movie\n",
    "titanic = Movie(\"Titanic\", \"James Cameron\", \"1997\")\n",
    "star_wars = Movie(\"Star Wars\", \"George Lucas\", \"1977\")\n",
    "fight_club = Movie(\"Fight Club\",\"David Fincher\",\"1999\")\n",
    "\n",
    "for movies in Movie.attributes:\n",
    "    print(movies.title[0]+movies.director+movies.year)\n"
   ]
  },
  {
   "cell_type": "code",
   "execution_count": 33,
   "metadata": {},
   "outputs": [
    {
     "name": "stdout",
     "output_type": "stream",
     "text": [
      "Apple\n",
      "Student\n",
      "1234\n",
      "AStudent1234\n"
     ]
    }
   ],
   "source": [
    "class Student:\n",
    "    attributes = []\n",
    "    # create class here\n",
    "    def __init__(self, name, last_name, birth_year):\n",
    "        self.name = name\n",
    "        self.last_name = last_name\n",
    "        self.birth_year = birth_year\n",
    "        Student.attributes.append(self)\n",
    "\n",
    "first = input()\n",
    "last = input()\n",
    "year = input()\n",
    "\n",
    "# objects of the class Student\n",
    "id = Student(first,last,year)\n",
    "\n",
    "for students in Student.attributes:\n",
    "    print(students.name[0]+students.last_name+students.birth_year)"
   ]
  },
  {
   "cell_type": "markdown",
   "metadata": {},
   "source": [
    "# Theory : Class Vs Instances\n",
    "By now, you already know that Python makes a distinction between class attributes and instance attributes. If you recall, class attributes are the ones shared by all instances of the class, while instance attributes are specific for each instance. Moreover, class attributes are defined within the class but outside of any methods, and instance attributes are usually defined within methods, notably the __init__ method."
   ]
  },
  {
   "cell_type": "markdown",
   "metadata": {},
   "source": [
    "# Changing Attributes"
   ]
  },
  {
   "cell_type": "code",
   "execution_count": 61,
   "metadata": {},
   "outputs": [
    {
     "data": {
      "text/plain": [
       "0"
      ]
     },
     "execution_count": 61,
     "metadata": {},
     "output_type": "execute_result"
    }
   ],
   "source": [
    "class Pet:\n",
    "    kind =\"Mammal\"\n",
    "    n_pets = 0 # number of pets\n",
    "    pet_names = [] # list of names of all pets\n",
    "    \n",
    "    #constructor\n",
    "    def __init__(self,spec,name):\n",
    "        self.spec = spec\n",
    "        self.name = name\n",
    "        self.legs = 4\n",
    "\n",
    "#This class has three class attributes, kind, n_pets, and pet_names, \n",
    "# as well as three instance attributes, defined in the __init__ method, spec, name, and legs.\n",
    "\n",
    "# class instaces\n",
    "tom = Pet(\"Cat\",\"Tom\")\n",
    "avacodo = Pet(\"Dog\",\"Avacado\")\n",
    "ben = Pet(\"Goldfish\",\"Benjamin\")\n",
    "\n",
    "# We've created three instances of the class Pet that have the same class attributes and different instance attributes.\n",
    "\n",
    "# Now, it would make sense to change the value of n_pets because we now have more than 0 pets\n",
    "\n",
    "# Since n_pets is an integer, which is an immutable type, \n",
    "# we can change its value for the whole class only if we access it directly as a class attribute:\n",
    "\n",
    "# access class attribute directly through the class\n",
    "\n",
    "Pet.n_pets += 3\n",
    "\n",
    "Pet.n_pets # output is 3\n",
    "tom.n_pets # output is 3\n",
    "avacodo.n_pets # output is 3\n",
    "ben.n_pets # output is 3\n",
    "\n",
    "# If we tried to change the value of n_pets via the instances it would not work as we wished:\n",
    "\n",
    "tom.n_pets += 1\n",
    "avacodo.n_pets +=1\n",
    "ben.n_pets +=1\n",
    "\n",
    "Pet.n_pets # output is still 3\n",
    "tom.n_pets # output is 4\n",
    "avacodo.n_pets # output is 4\n",
    "ben.n_pets #output is 4\n",
    "\n",
    "# Even though all instances have access to the class attribute, \n",
    "# if those attributes are immutable, changing their value for one instance doesn't change them for the whole class.\n",
    "\n",
    "# The same would be with the attribute kind, since strings are also immutable in Python.\n",
    "# If we change it for the object ben (since a goldfish is not a mammal), \n",
    "# it would stay the same for other attributes (as it should):\n",
    "\n",
    "ben.kind = 'fish'\n",
    "\n",
    "Pet.kind # Mammal\n",
    "tom.kind # Mammal\n",
    "avacodo.kind # Mammal\n",
    "ben.kind # fish\n",
    "\n",
    "# In cases where there's a handful of unique objects \n",
    "# that need to have a different value of the class variable, this is totally fine.\n",
    "# However, if there're a lot of those objects, you should consider making this attribute an instance attribute!\n",
    "\n",
    "\n",
    "# The situation with the pet_names attribute is different.\n",
    "# The pet_names attribute is a list and, therefore, mutable, \n",
    "# so changes to it affect the whole class. See below:\n",
    "\n",
    "tom.pet_names.append(tom.name)\n",
    "avacodo.pet_names.append(avacodo.name)\n",
    "ben.pet_names.append(ben.name)\n",
    "\n",
    "Pet.pet_names # ['Tom', 'Avacado', 'Benjamin']\n",
    "tom.pet_names # ['Tom', 'Avacado', 'Benjamin']\n",
    "avacodo.pet_names # ['Tom', 'Avacado', 'Benjamin']\n",
    "ben.pet_names # ['Tom', 'Avacado', 'Benjamin']\n",
    "\n",
    "# If for some reason, we wanted the class attribute pet_names to store different values for different instances,\n",
    "# we could do that by creating a new list instead of appending to the existing one:\n",
    "\n",
    "tom.pet_names = [\"Tom\"]\n",
    "avacodo.pet_names = [\"Avocado\"]\n",
    "ben.pet_names = [\"Benjamin\"]\n",
    "\n",
    "Pet.pet_names      # []\n",
    "tom.pet_names      # [\"Tom\"]\n",
    "avacodo.pet_names  # [\"Avocado\"]\n",
    "ben.pet_names      # [\"Benjamin\"]\n",
    "\n",
    "# But this doesn't seem very convenient or necessary:\n",
    "# after all, this is a class attribute and the idea behind it is that it stores values common to all the instances\n",
    "\n",
    "# So, again, if you want some attribute to store unique values, make it an instance attribute!\n",
    "\n",
    "# Like, for example, variable legs.  \n",
    "# It is an instance attribute, even though it is not explicitly passed as an argument of the __init__ method.\n",
    "# The default value is 4 but we can change it if we ever need to\n",
    "# That would be helpful for the object ben because fish don't have legs \n",
    "# (they do have fins, but let's save the question of whether a fin can be considered a leg in this context for another time).\n",
    "\n",
    "# This is how we change the value of legs for the object ben:\n",
    "\n",
    "ben.legs = 0\n",
    "\n",
    "tom.legs # 4\n",
    "ben.legs # 0\n"
   ]
  },
  {
   "cell_type": "markdown",
   "metadata": {},
   "source": [
    "# Adding Attributes\n",
    "\n",
    "In addition to changing attributes, we can also create attributes for the class or a particular instance."
   ]
  },
  {
   "cell_type": "code",
   "execution_count": 70,
   "metadata": {},
   "outputs": [
    {
     "ename": "AttributeError",
     "evalue": "type object 'Pet' has no attribute 'breed'",
     "output_type": "error",
     "traceback": [
      "\u001b[1;31m---------------------------------------------------------------------------\u001b[0m",
      "\u001b[1;31mAttributeError\u001b[0m                            Traceback (most recent call last)",
      "\u001b[1;32m<ipython-input-70-b8da8e27b666>\u001b[0m in \u001b[0;36m<module>\u001b[1;34m()\u001b[0m\n\u001b[0;32m     17\u001b[0m \u001b[1;31m# so the following lines of code would cause an error:\u001b[0m\u001b[1;33m\u001b[0m\u001b[1;33m\u001b[0m\u001b[0m\n\u001b[0;32m     18\u001b[0m \u001b[1;33m\u001b[0m\u001b[0m\n\u001b[1;32m---> 19\u001b[1;33m \u001b[0mPet\u001b[0m\u001b[1;33m.\u001b[0m\u001b[0mbreed\u001b[0m\u001b[1;33m\u001b[0m\u001b[0m\n\u001b[0m",
      "\u001b[1;31mAttributeError\u001b[0m: type object 'Pet' has no attribute 'breed'"
     ]
    }
   ],
   "source": [
    "# For example, we want to see the information about the species of all our pets. \n",
    "# We then could write it in the class itself from the very beginning or we could create a variable like this:\n",
    "\n",
    "Pet.all_specs = [tom.spec,avacodo.spec,ben.spec]\n",
    "Pet.all_specs # ['Cat', 'Dog', 'Goldfish']\n",
    "tom.all_specs  # ['Cat', 'Dog', 'Goldfish']\n",
    "avacodo.all_specs # ['Cat', 'Dog', 'Goldfish']\n",
    "ben.all_specs # ['Cat', 'Dog', 'Goldfish']\n",
    "\n",
    "# Another thing we could do is to create an attribute for a specific instance. \n",
    "# For example, we want to remember the breed of the dog called Avocado.\n",
    "\n",
    "avacodo.breed = \"corgi\"\n",
    "\n",
    "# Here we created an attribute breed for the object avocado and assigned a value corgi to it.\n",
    "# Other instances of the class Pet as well as the class itself wouldn't have this attribute, \n",
    "# so the following lines of code would cause an error:\n",
    "\n",
    "Pet.breed # AttributeError  \n",
    "tom.breed # AttributeError\n",
    "ben.breed # AttributeError"
   ]
  },
  {
   "cell_type": "code",
   "execution_count": 76,
   "metadata": {},
   "outputs": [
    {
     "name": "stdout",
     "output_type": "stream",
     "text": [
      "Mona Lisa\n",
      "Leonardo da Vinci\n",
      "1503\n",
      "\"Mona Lisa\" by Leonardo da Vinci (1503) hangs in the Louvre\n"
     ]
    }
   ],
   "source": [
    "# You are writing a program that deals with the paintings that hang in the Louvre. \n",
    "# You've created a class Painting and are planning to add some class methods and a class constructor.\n",
    "# What'll be common for all paintings is that they all belong to the same museum, \n",
    "# obviously, but the differences will be in the title of the painting, the painter and the year of creation.\n",
    "# Finish writing the class Painting and then process some information from the input.\n",
    "# The input format:\n",
    "# The input contains 3 lines: the first is the title of the painting, \n",
    "# the second with the artist and the third with the year of the creation.\n",
    "# The output format:\n",
    "# A string of the kind: \"Title\" by Artist (Year) hangs in the Louvre.\n",
    "\n",
    "# Sample Input 1:\n",
    "\n",
    "# Mona Lisa\n",
    "# Leonardo da Vinci\n",
    "# 1503\n",
    "\n",
    "# Sample Output 1:\n",
    "\n",
    "# \"Mona Lisa\" by Leonardo da Vinci (1503) hangs in the Louvre.\n",
    "\n",
    "class Painting:\n",
    "    place =\"museum\"\n",
    "    paintings = []\n",
    "    where = 'hangs in the Louvre'\n",
    "    \n",
    "    def __init__(self, title, painter, year):\n",
    "        self.title = title\n",
    "        self.painter = painter\n",
    "        self.year = year\n",
    "        Painting.paintings.append(self)\n",
    "        \n",
    "    def get_info(self):\n",
    "        print('\"{0}\" by {1} ({2}) hangs in the Louvre.'.format(self.title,self.painter,self.year))\n",
    "        \n",
    "ti = input()\n",
    "pa = input()\n",
    "y = input()\n",
    "\n",
    "# class object\n",
    "details = Painting(ti,pa,y)\n",
    "\n",
    "details.get_info()"
   ]
  },
  {
   "cell_type": "code",
   "execution_count": 78,
   "metadata": {},
   "outputs": [],
   "source": [
    "# In her projects, Jess works with various geometrical objects. \n",
    "# To simplify the process, she needs to create different classes for the shapes.\n",
    "\n",
    "# One of these shapes is a sphere. There are 3 characteristics she needs for the sphere: \n",
    "# the PI number, the radius r and the volume v of the particular sphere.\n",
    "\n",
    "# The volume is calculated according to this formula: v = {4}/{3} pi r^3\n",
    "\n",
    "\n",
    "# Finish writing the code below: determine which attributes are class or instance attributes, \n",
    "# and do necessary calculations. Make sure to name the attributes like they are presented above \n",
    "# (that is, PI, radius, and volume.) Use \\pi \\approx 3.1415π≈3.1415 (for checkup purposes).\n",
    "\n",
    "# You do NOT need to create any instances of the class or work with input.\n",
    "\n",
    "class Sphere:\n",
    "    cons = 4/3\n",
    "    PI = 3.1415\n",
    "    \n",
    "    def __init__(self,radius):\n",
    "        self.radius = radius\n",
    "        self.volume = cons * PI * radius ** 3"
   ]
  },
  {
   "cell_type": "markdown",
   "metadata": {},
   "source": [
    "# Theory : Methods\n",
    "If attributes define the data that the objects of a particular class have, the methods define their behavior.\n",
    "Python has several types of methods that you can create within a class but, in this topic, we will focus on the instance methods."
   ]
  },
  {
   "cell_type": "markdown",
   "metadata": {},
   "source": [
    "# 1. Method Syntax"
   ]
  },
  {
   "cell_type": "code",
   "execution_count": null,
   "metadata": {},
   "outputs": [],
   "source": [
    "# Basic syntax\n",
    "class Myclass:\n",
    "    var1 # class variables\n",
    "    # constructor\n",
    "    def __init__(self,arg1):\n",
    "        self.att = arg1\n",
    "    # custom method\n",
    "    def do_stmt(self):\n",
    "        # does something"
   ]
  },
  {
   "cell_type": "code",
   "execution_count": null,
   "metadata": {},
   "outputs": [],
   "source": [
    "# The first parameter of the method should always be self. \n",
    "#You may remember that self represents the particular instance of the class.\n",
    "# When it comes to instance methods,the first parameter that is passed to the method is the instance that called it.\n",
    "\n",
    "# Let's create an instance of MyClass and see how this works:\n",
    "my_object = MyClass(some_value)\n",
    "# calling the instance method\n",
    "my_object.do_smt()\n",
    "# my_object does something\n",
    "\n",
    "# In this example, the my_object instance is passed implicitly \n",
    "# so we do not write the parameter in the code. \n",
    "# We can, however, pass the instance explicitly:\n",
    "\n",
    "MyClass.do_smt(my_object)\n",
    "# my_object does the same thing\n",
    "\n",
    "# These examples clearly illustrate why self has to be the first argument of the instance methods.\n",
    "# If you want your method to have other parameters, just write them after the self keyword!"
   ]
  },
  {
   "cell_type": "markdown",
   "metadata": {},
   "source": [
    "# 2. Methods vs Functions\n",
    "\n",
    "Though they are quite similar, Python does make a distinction between methods and functions. The main difference lies, naturally, in the fact that methods are a part of the OOP structure while functions are not."
   ]
  },
  {
   "cell_type": "code",
   "execution_count": 4,
   "metadata": {},
   "outputs": [
    {
     "name": "stdout",
     "output_type": "stream",
     "text": [
      "Black Pearl has sailed\n",
      "Black Pearl has sailed\n"
     ]
    }
   ],
   "source": [
    "# lets consider the example\n",
    "\n",
    "# class Ship\n",
    "class Ship:\n",
    "    # Constructor\n",
    "    def __init__(self, name, capacity):\n",
    "        self.name = name\n",
    "        self.capacity = capacity\n",
    "        self.cargo = 0\n",
    "    # Class Method    \n",
    "    def sail(self):\n",
    "        print(\"{} has sailed\".format(self.name))\n",
    "# function        \n",
    "def sail_function(name):\n",
    "    print(\"{} has sailed\".format(name))\n",
    "    \n",
    "# Let's call them\n",
    "# create an instance of the class ship\n",
    "# and calling the method sail\n",
    "\n",
    "black_pearl = Ship(\"Black Pearl\",800)\n",
    "black_pearl.sail() # output is Black Pearl has sailed\n",
    "\n",
    "# calling the sail function\n",
    "sail_function(black_pearl.name) # output is Black Pearl has sailed\n",
    "\n",
    "# The way that we've defined them, both our method and our function produce the same results \n",
    "# but in a different way. A method is connected to an object of the class, \n",
    "# it is not independent the way a function is. \n",
    "# Sure they are both called by their names, but to call a method we need to invoke the class that this method belongs to. \n",
    "\n"
   ]
  },
  {
   "cell_type": "markdown",
   "metadata": {},
   "source": [
    "\n",
    "# 3. Return"
   ]
  },
  {
   "cell_type": "code",
   "execution_count": 7,
   "metadata": {},
   "outputs": [
    {
     "name": "stdout",
     "output_type": "stream",
     "text": [
      "2000\n"
     ]
    }
   ],
   "source": [
    "# For example, let's create a method that calculates how many kilograms of cargo \n",
    "# the ship has (initially, the weight of the cargo is given in tons):\n",
    "\n",
    "class Ship:\n",
    "    # other methods\n",
    "    \n",
    "    def __init__(self,cargo):\n",
    "        self.cargo = cargo\n",
    "            \n",
    "    def convert_cargo(self):\n",
    "        return self.cargo * 1000\n",
    "    \n",
    "black_pearl = Ship(2)\n",
    "    \n",
    "print(black_pearl.convert_cargo())"
   ]
  },
  {
   "cell_type": "code",
   "execution_count": 12,
   "metadata": {},
   "outputs": [
    {
     "name": "stdout",
     "output_type": "stream",
     "text": [
      "David\n",
      "Hello, I am David!\n"
     ]
    }
   ],
   "source": [
    "# Create a method greet for the class Person that prints the message \"Hello, I am {name}!\" .\n",
    "\n",
    "# Read the name of the person from the input, \n",
    "# create an instance of class Person using this name and \n",
    "# then call the greet method you've just created! You can see an example below.\n",
    "\n",
    "# Sample Input 1:\n",
    "# David\n",
    "#Sample Output 1:\n",
    "#Hello, I am David!\n",
    "\n",
    "class Person:\n",
    "    \n",
    "    def __init__(self,name):\n",
    "        self.name = name\n",
    "    def greet(self):\n",
    "        print(\"Hello, I am {}!\".format(self.name))\n",
    "\n",
    "user_input = input()\n",
    "name = Person(user_input)\n",
    "\n",
    "name.greet()\n"
   ]
  },
  {
   "cell_type": "code",
   "execution_count": 13,
   "metadata": {},
   "outputs": [
    {
     "name": "stdout",
     "output_type": "stream",
     "text": [
      "Argentina\n",
      "Black Pearl has sailed for Argentina\n"
     ]
    }
   ],
   "source": [
    "# our class Ship\n",
    "class Ship:\n",
    "    def __init__(self, name, capacity):\n",
    "        self.name = name\n",
    "        self.capacity = capacity\n",
    "        self.cargo = 0\n",
    "\n",
    "    # the old sail method that you need to rewrite\n",
    "    def sail(self,dest):\n",
    "        print(\"{} has sailed for {}\".format(self.name,dest))\n",
    "\n",
    "dest = input()\n",
    "black_pearl = Ship(\"Black Pearl\", 800)\n",
    "black_pearl.sail(dest)"
   ]
  },
  {
   "cell_type": "markdown",
   "metadata": {},
   "source": [
    "# Theory: Methods and Attributes\n",
    "learn to use the methods for creating and modifying attributes."
   ]
  },
  {
   "cell_type": "markdown",
   "metadata": {},
   "source": [
    "# 1. Creating Attirbutes with Methods"
   ]
  },
  {
   "cell_type": "code",
   "execution_count": 7,
   "metadata": {},
   "outputs": [
    {
     "name": "stdout",
     "output_type": "stream",
     "text": [
      "Jack Sapprow is the captain of the Black Pearl\n",
      "Jack Sapprow\n"
     ]
    }
   ],
   "source": [
    "# Instance attributes are the ones defined within methods \n",
    "# so by definition we can create new attributes inside our custom methods.\n",
    "class Ship:\n",
    "    # constructor\n",
    "    def __init__(self, name, capacity):\n",
    "        self.name = name\n",
    "        self.capacity = capacity\n",
    "        self.cargo = 0\n",
    "    # method\n",
    "    def name_captain(self,cap):\n",
    "        self.captain = cap\n",
    "        print(\"{} is the captain of the {}\".format(self.captain,self.name))\n",
    "\n",
    "# Object\n",
    "black_pearl = Ship(\"Black Pearl\", 800)\n",
    "\n",
    "# print(black_pearl.captain) # throws Attribute Error 'Ship' object has no attribute 'captain'\n",
    "\n",
    "black_pearl.name_captain(\"Jack Sapprow\") # Jack Sapprow is the captain of the Black Pearl\n",
    "\n",
    "print(black_pearl.captain) # Jack Sapprow\n",
    "\n",
    "# Note that only those instances that have called this method, will have the captain attribute.\n",
    "# To avoid these problems, it is recommended to define all possible attributes in the __init__.\n",
    "\n",
    "class Ship:\n",
    "    def __init__(self, name, capacity):\n",
    "        self.name = name\n",
    "        self.capacity = capacity\n",
    "        self.cargo = 0\n",
    "        self.captain = None\n",
    "\n",
    "# Then, in the specific method, you simply modify the default value which is what we'll consider in the next section."
   ]
  },
  {
   "cell_type": "markdown",
   "metadata": {},
   "source": [
    "# 2. Modifying attributes with Methods"
   ]
  },
  {
   "cell_type": "code",
   "execution_count": 24,
   "metadata": {},
   "outputs": [
    {
     "name": "stdout",
     "output_type": "stream",
     "text": [
      "Loaded 600 tons\n",
      "unloaded 400 tons\n",
      "Cannot load that much\n",
      "Cannot unload that much\n"
     ]
    }
   ],
   "source": [
    "# Methods can also be used to modify the instance attributes\n",
    "class Ship:\n",
    "    def __init__(self, name, capacity):\n",
    "        self.name = name\n",
    "        self.capacity = capacity\n",
    "        self.cargo = 0\n",
    "    \n",
    "    def load_cargo(self, weight):\n",
    "        if weight <= self.free_space():\n",
    "            self.cargo += weight\n",
    "            print(\"Loaded {} tons\".format(weight))\n",
    "        else:\n",
    "            print(\"Cannot load that much\")\n",
    "            \n",
    "    def unload_cargo(self,weight):\n",
    "        if self.cargo - weight >= 0:\n",
    "            self.cargo -= weight\n",
    "            print(\"unloaded {} tons\".format(weight))\n",
    "        else:\n",
    "            print(\"Cannot unload that much\")\n",
    "            \n",
    "    def free_space(self):\n",
    "        return self.capacity - self.cargo\n",
    "\n",
    "# class instance\n",
    "black_pearl = Ship(\"Black Pearl\", 800)\n",
    "\n",
    "# example\n",
    "black_pearl.load_cargo(600) # Loaded 600 tons\n",
    "\n",
    "black_pearl.unload_cargo(400) # unloaded 400 tons\n",
    "\n",
    "black_pearl.load_cargo(700) # Cannot load that much\n",
    "\n",
    "black_pearl.unload_cargo(300) # Cannot unload that much"
   ]
  },
  {
   "cell_type": "code",
   "execution_count": 26,
   "metadata": {},
   "outputs": [
    {
     "name": "stdout",
     "output_type": "stream",
     "text": [
      "6 4\n"
     ]
    }
   ],
   "source": [
    "class Turtle:\n",
    "    def __init__(self, x, y):\n",
    "        # the initial coordinates of the turtle\n",
    "        self.x = x\n",
    "        self.y = y\n",
    " \n",
    "    def move_up(self, n):\n",
    "        self.y += n\n",
    " \n",
    "    def move_down(self, n):\n",
    "        self.y = 0 if n > self.y else self.y - n\n",
    " \n",
    "    def move_right(self, n):\n",
    "        self.x += n\n",
    " \n",
    "    def move_left(self, n):\n",
    "        self.x = 0 if n > self.x else self.x - n\n",
    "        \n",
    "leo = Turtle(1, 1)\n",
    "leo.move_up(7)\n",
    "leo.move_left(5)\n",
    "leo.move_down(4)\n",
    "leo.move_right(6)\n",
    "\n",
    "print(leo.x,leo.y)"
   ]
  },
  {
   "cell_type": "code",
   "execution_count": 82,
   "metadata": {},
   "outputs": [
    {
     "name": "stdout",
     "output_type": "stream",
     "text": [
      "2 0\n"
     ]
    }
   ],
   "source": [
    "class PiggyBank:\n",
    "    def __init__(self, dollars, cents):\n",
    "        self.dollars = dollars\n",
    "        self.cents = cents\n",
    "        #print(\"{} {}\".format(self.dollars,self.cents))\n",
    "    def add_money(self, deposit_dollars, deposit_cents):\n",
    "        #self.dollars += deposit_dollars\n",
    "        if deposit_cents < 100:\n",
    "            if self.cents + deposit_cents > 99:\n",
    "                self.dollars += deposit_dollars + 1\n",
    "                self.cents += deposit_cents - 100\n",
    "                print(\"{} {}\".format(self.dollars,self.cents))\n",
    "            else:\n",
    "                self.dollars += deposit_dollars\n",
    "                self.cents += deposit_cents\n",
    "                print(\"{} {}\".format(self.dollars,self.cents))\n",
    "        else:\n",
    "            self.dollars += deposit_dollars + (deposit_cents // 100)\n",
    "            self.cents += deposit_cents % 100\n",
    "            if self.cents == 100:\n",
    "                self.dollars += 1\n",
    "                self.cents = 0\n",
    "                print(\"{} {}\".format(self.dollars,self.cents))\n",
    "            else:\n",
    "                print(\"{} {}\".format(self.dollars,self.cents))\n",
    "\n",
    "money = PiggyBank(1,1)\n",
    "\n",
    "money.add_money(0,99)\n",
    "\n"
   ]
  },
  {
   "cell_type": "markdown",
   "metadata": {},
   "source": [
    "# Theory: Magic Methods"
   ]
  },
  {
   "cell_type": "markdown",
   "metadata": {},
   "source": [
    "# 1. What are \"Magic\" methods\n",
    "Magic methods are special methods that make using your objects much easier. They are recognizable in the code of the class definitions because they are enclosed in double underscores: __init__ , for example, is one of those \"magic\" methods in Python. Since they are characterized by double underscores they are often called dunders. \n",
    "\n",
    "Dunders are not meant to be invoked directly by you or the user of your class, it happens internally on a certain action. For example, we do not explicitly call the __init__ method when we create a new object of the class, but instead, this method is invoked internally. All we need to do is to define the method inside the class in a way that makes sense for our project."
   ]
  },
  {
   "cell_type": "markdown",
   "metadata": {},
   "source": [
    "# 2. __new__ vs __init__\n",
    "\n",
    "So far we've been calling __init__ the constructor of the class, but in reality, it is its initializer. New objects of the class are in fact created by the __new__ method that in its turn calls the __init__ method. \n",
    "\n",
    "The first argument of the __new__ method is cls. It represents the class itself, similar to how self represents an instance of the class. This also makes __new__ a different kind of method since it doesn't require an instance of the class. This makes sense since it is supposed to create those instances. The method returns a new instance of the class which is then passed to the __init__ method.\n",
    "\n",
    "Usually, there is no need to define a special __new__ method, but it can be useful if we want to return instances of other classes or restrict the number of objects in our class. \n",
    "\n",
    "Imagine, for example, that we want to create a class Sun and make sure that we create only one object of this class. We would need to define a class variable that would track the number of instances in the class and forbid the creation of new ones if the limit has been reached."
   ]
  },
  {
   "cell_type": "code",
   "execution_count": 83,
   "metadata": {},
   "outputs": [
    {
     "name": "stdout",
     "output_type": "stream",
     "text": [
      "<__main__.Sun object at 0x000002BC0B1AEB00>\n",
      "None\n"
     ]
    }
   ],
   "source": [
    "class Sun:\n",
    "    n = 0\n",
    " \n",
    "    def __new__(cls):\n",
    "        if cls.n == 0:\n",
    "            instance = object.__new__(cls)\n",
    "            cls.n += 1\n",
    "            return instance\n",
    "\n",
    "# The code below may be a bit unexpected so let's analyze it. \n",
    "# We first check that the class variable n has a value of zero. \n",
    "# If it does, it means that no instances of the class have been created and we can do that. \n",
    "# We then call __new__ method of object class which allows us to create a new instance. \n",
    "# In the end, we update the class variable and return the instance.\n",
    "\n",
    "# If we now try to create 2 objects of this class we will not succeed:\n",
    "\n",
    "sun1 = Sun()\n",
    "sun2 = Sun()\n",
    " \n",
    "print(sun1)  # <__main__.Sun object at 0x1106884a8>\n",
    "print(sun2)  # None"
   ]
  },
  {
   "cell_type": "markdown",
   "metadata": {},
   "source": [
    "# 3. __str__ vs __repr__\n",
    "\n",
    "You can print the results of calculations for yourself or the user of your program, find the mistakes in the code or print out messages."
   ]
  },
  {
   "cell_type": "code",
   "execution_count": 84,
   "metadata": {},
   "outputs": [
    {
     "name": "stdout",
     "output_type": "stream",
     "text": [
      "<__main__.Transaction object at 0x000002BC0B1AE208>\n"
     ]
    }
   ],
   "source": [
    "# For example, let's consider the class Transaction: \n",
    "\n",
    "class Transaction:\n",
    "    def __init__(self, number, funds, status=\"active\"):\n",
    "        self.number = number\n",
    "        self.funds = funds\n",
    "        self.status = status\n",
    "        \n",
    "# If we create a transaction and try to print it out we will not get what we want:\n",
    "\n",
    "payment = Transaction(\"000001\", 9999.999)\n",
    "print(payment) # <__main__.Transaction object at 0x000002BC0B1AE208>"
   ]
  },
  {
   "cell_type": "markdown",
   "metadata": {},
   "source": [
    "Instead of the values that we would like to see, we get information about the object itself. This can be altered if we deal with __str__ or __repr__ methods.\n",
    "\n",
    "As the names suggest, __str__ defines the behavior of the str() function and __repr__ defines the repr() function. A general rule with the __str__ and __repr__ methods is that the output of the __str__ should be highly readable and the output of the __repr__ should be unambiguous. In other words, __str__ creates a representation for users and __repr__ creates a representation for developers and debuggers. If possible, __repr__ should return Python code that could be used to create this object or, at least, a comprehensive description.\n",
    "\n",
    "A good rule is to always define the __repr__ method first since it is the method used by developers in debugging. It is also a fallback method for __str__which means that if the __str__ method isn't defined, in the situations where it's needed, the __repr__ will be called instead. This is, for example, the case with print().\n",
    "\n",
    "In our example here, let's create the __repr__ method that would create an unambiguous representation of the transaction and all its attributes."
   ]
  },
  {
   "cell_type": "code",
   "execution_count": 85,
   "metadata": {},
   "outputs": [
    {
     "name": "stdout",
     "output_type": "stream",
     "text": [
      "Transaction(000001, 9999.999)\n"
     ]
    }
   ],
   "source": [
    "class Transaction:\n",
    "    def __init__(self, number, funds, status=\"active\"):\n",
    "        self.number = number\n",
    "        self.funds = funds\n",
    "        self.status = status\n",
    " \n",
    "    def __repr__(self):\n",
    "        return \"Transaction({}, {})\".format(self.number, self.funds)\n",
    "\n",
    "payment = Transaction(\"000001\", 9999.999)\n",
    "print(payment)"
   ]
  },
  {
   "cell_type": "markdown",
   "metadata": {},
   "source": [
    "You can see that we've called print and got the representation from __repr__. Now let's add __str__ and see if things change."
   ]
  },
  {
   "cell_type": "code",
   "execution_count": 87,
   "metadata": {},
   "outputs": [
    {
     "name": "stdout",
     "output_type": "stream",
     "text": [
      "Transaction 000001 for 9999.999 (active)\n",
      "Transaction(000001, 9999.999)\n"
     ]
    }
   ],
   "source": [
    "class Transaction:\n",
    "    def __init__(self, number, funds, status=\"active\"):\n",
    "        self.number = number\n",
    "        self.funds = funds\n",
    "        self.status = status\n",
    " \n",
    "    def __repr__(self):\n",
    "        return \"Transaction({}, {})\".format(self.number, self.funds)\n",
    " \n",
    "    def __str__(self):\n",
    "        return \"Transaction {} for {} ({})\".format(self.number, self.funds, self.status)\n",
    "\n",
    "payment = Transaction(\"000001\", 9999.999)\n",
    "print(payment)\n",
    "print(repr(payment))"
   ]
  },
  {
   "cell_type": "markdown",
   "metadata": {},
   "source": [
    "In this topic, we've covered only a couple of these magic methods. We highly encourage you to look them up (for example, in \"A Guide to Python's Magic Methods\" by Rafe Kettler) and try them out in your projects. As for the magic methods for arithmetics and comparisons, we'll look into them in another topic!"
   ]
  },
  {
   "cell_type": "code",
   "execution_count": 100,
   "metadata": {},
   "outputs": [
    {
     "name": "stdout",
     "output_type": "stream",
     "text": [
      "John\n",
      "Doe\n",
      "50\n",
      "Object of the class Patient. name:John, last_name:Doe, age:50\n",
      "John Doe.50\n"
     ]
    }
   ],
   "source": [
    "class Patient:\n",
    "    def __init__(self, name, last_name, age):\n",
    "        self.name = name\n",
    "        self.last_name = last_name\n",
    "        self.age = age\n",
    "\n",
    "    # create methods here\n",
    "    def __repr__(self):\n",
    "        return \"Object of the class Patient. name:{}, last_name:{}, age:{}\".format(self.name, self.last_name, self.age)\n",
    " \n",
    "    def __str__(self):\n",
    "        return (\"{} {}.{}\".format(self.name, self.last_name, self.age))\n",
    "    \n",
    "f_name = input()\n",
    "l_name = input()\n",
    "age = int(input())\n",
    "john = Patient(f_name,l_name,age)\n",
    "print(repr(john))\n",
    "print(john)\n",
    "\n",
    "\n",
    "#Object of the class Patient. name: {name}, last_name: {last_name}, age: {age}"
   ]
  }
 ],
 "metadata": {
  "kernelspec": {
   "display_name": "Python 3",
   "language": "python",
   "name": "python3"
  },
  "language_info": {
   "codemirror_mode": {
    "name": "ipython",
    "version": 3
   },
   "file_extension": ".py",
   "mimetype": "text/x-python",
   "name": "python",
   "nbconvert_exporter": "python",
   "pygments_lexer": "ipython3",
   "version": "3.6.5"
  }
 },
 "nbformat": 4,
 "nbformat_minor": 2
}
